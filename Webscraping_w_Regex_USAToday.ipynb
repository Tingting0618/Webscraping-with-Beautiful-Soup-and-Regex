{
 "cells": [
  {
   "cell_type": "markdown",
   "metadata": {},
   "source": [
    "## Webscraping Beautiful Soup+Regex\n",
    "\n",
    "The purpose of this exercise is to use *beautifulsoup* to extract out information from this article: https://www.usatoday.com/story/money/business/2018/09/13/mcdonalds-states-most-stores/37748287/.\n",
    "\n",
    "Unfortunately, the information we want is not stored in a table and is not formatted in a way that makes it easy to extract, so it will take some work before you can do any analysis.\n",
    "\n",
    "Your objective is to create a pandas DataFrame containing all 50 states and the four metrics from the article (number of McDonald's per 100,000, adult obesity rate, percent consuming vegetables less than daily, and median household income).\n",
    "\n",
    "findAll --> class 'bs4.element.ResultSet'\n",
    "\n",
    "findAll[0] --> class 'bs4.element.Tag\n",
    "\n",
    "findAll[0].get('alt',default='No Class') --> text of that class\n",
    "\n",
    "findAll[0].text --> text "
   ]
  },
  {
   "cell_type": "code",
   "execution_count": 1,
   "metadata": {},
   "outputs": [],
   "source": [
    "import requests\n",
    "from bs4 import BeautifulSoup\n",
    "import re\n",
    "import pandas as pd"
   ]
  },
  {
   "cell_type": "markdown",
   "metadata": {},
   "source": [
    "**Step 1: Use _requests_ to fetch the contents of the article and convert to soup with _BeautifulSoup_**"
   ]
  },
  {
   "cell_type": "code",
   "execution_count": 2,
   "metadata": {},
   "outputs": [],
   "source": [
    "response = requests.get('https://www.usatoday.com/story/money/business/2018/09/13/mcdonalds-states-most-stores/37748287/')\n",
    "soup = BeautifulSoup(response.text)"
   ]
  },
  {
   "cell_type": "markdown",
   "metadata": {},
   "source": [
    "### Step 2: Extract State Names"
   ]
  },
  {
   "cell_type": "markdown",
   "metadata": {},
   "source": [
    "**A.** Using whatever method you would like, extract out the states as a list named `states`. Do this in the same order that they appear in the article."
   ]
  },
  {
   "cell_type": "code",
   "execution_count": 3,
   "metadata": {},
   "outputs": [],
   "source": [
    "states = soup.findAll('h3', attrs={'class' : 'gnt_ar_b_h2'})\n",
    "states = states [:-1]\n",
    "states = [state.text for state in states]\n",
    "states = [re.sub('\\d*\\.\\s',\"\",state) for state in states]"
   ]
  },
  {
   "cell_type": "markdown",
   "metadata": {},
   "source": [
    "**B.** Now, extract the other four variables as lists named `McD`, `obesity`, `veggies`, and `income`. Make sure that they are in the same order as states."
   ]
  },
  {
   "cell_type": "code",
   "execution_count": 4,
   "metadata": {},
   "outputs": [],
   "source": [
    "mc = soup.findAll('p', attrs={'class' : 'gnt_ar_b_p'})\n",
    "mc = [j.text for j in mc]\n",
    "mc = [x for x in mc if \"No. of McDonald's\" in x]\n",
    "McD = [float(re.findall('(\\d\\.\\d) per 100,000',a)[0]) for a in mc]\n",
    "obe = [float(re.findall('Adult obesity rate: (\\d+\\.\\d) percent',a)[0]) for a in mc]\n",
    "veg = [float(re.findall('than daily: (\\d+\\.\\d) percent',a)[0]) for a in mc]\n",
    "inc = [re.findall('income: \\$(\\d+\\,\\d+)',a)[0] for a in mc]\n",
    "inc = [int(i.replace(',', '')) for i in inc]"
   ]
  },
  {
   "cell_type": "markdown",
   "metadata": {},
   "source": [
    "### Step 3: Convert the Result to a pandas DataFrame\n",
    "\n",
    "Once you have created a DataFrame, take a look at the results and see if there are any significant correlations between the variables."
   ]
  },
  {
   "cell_type": "code",
   "execution_count": 6,
   "metadata": {},
   "outputs": [
    {
     "data": {
      "text/html": [
       "<div>\n",
       "<style scoped>\n",
       "    .dataframe tbody tr th:only-of-type {\n",
       "        vertical-align: middle;\n",
       "    }\n",
       "\n",
       "    .dataframe tbody tr th {\n",
       "        vertical-align: top;\n",
       "    }\n",
       "\n",
       "    .dataframe thead th {\n",
       "        text-align: right;\n",
       "    }\n",
       "</style>\n",
       "<table border=\"1\" class=\"dataframe\">\n",
       "  <thead>\n",
       "    <tr style=\"text-align: right;\">\n",
       "      <th></th>\n",
       "      <th>States</th>\n",
       "      <th>Num_of_McD</th>\n",
       "      <th>Obesity_Rate</th>\n",
       "      <th>Veg_Consumption_Rate</th>\n",
       "      <th>Median_Income</th>\n",
       "    </tr>\n",
       "  </thead>\n",
       "  <tbody>\n",
       "    <tr>\n",
       "      <th>0</th>\n",
       "      <td>Rhode Island</td>\n",
       "      <td>2.9</td>\n",
       "      <td>27.2</td>\n",
       "      <td>23.5</td>\n",
       "      <td>60596</td>\n",
       "    </tr>\n",
       "    <tr>\n",
       "      <th>1</th>\n",
       "      <td>New Jersey</td>\n",
       "      <td>3.0</td>\n",
       "      <td>25.9</td>\n",
       "      <td>22.1</td>\n",
       "      <td>76126</td>\n",
       "    </tr>\n",
       "    <tr>\n",
       "      <th>2</th>\n",
       "      <td>New York</td>\n",
       "      <td>3.1</td>\n",
       "      <td>25.0</td>\n",
       "      <td>22.4</td>\n",
       "      <td>62909</td>\n",
       "    </tr>\n",
       "    <tr>\n",
       "      <th>3</th>\n",
       "      <td>California</td>\n",
       "      <td>3.3</td>\n",
       "      <td>22.7</td>\n",
       "      <td>18.6</td>\n",
       "      <td>67739</td>\n",
       "    </tr>\n",
       "    <tr>\n",
       "      <th>4</th>\n",
       "      <td>North Dakota</td>\n",
       "      <td>3.3</td>\n",
       "      <td>31.8</td>\n",
       "      <td>27.5</td>\n",
       "      <td>60656</td>\n",
       "    </tr>\n",
       "  </tbody>\n",
       "</table>\n",
       "</div>"
      ],
      "text/plain": [
       "         States  Num_of_McD  Obesity_Rate  Veg_Consumption_Rate  Median_Income\n",
       "0  Rhode Island         2.9          27.2                  23.5          60596\n",
       "1    New Jersey         3.0          25.9                  22.1          76126\n",
       "2      New York         3.1          25.0                  22.4          62909\n",
       "3    California         3.3          22.7                  18.6          67739\n",
       "4  North Dakota         3.3          31.8                  27.5          60656"
      ]
     },
     "execution_count": 6,
     "metadata": {},
     "output_type": "execute_result"
    }
   ],
   "source": [
    "list_of_tuples = list(zip(states, McD, obe,veg,inc)) \n",
    "clean_data = pd.DataFrame(list_of_tuples, columns = ['States','Num_of_McD', 'Obesity_Rate','Veg_Consumption_Rate','Median_Income'])\n",
    "clean_data.head(5)"
   ]
  },
  {
   "cell_type": "code",
   "execution_count": null,
   "metadata": {},
   "outputs": [],
   "source": []
  }
 ],
 "metadata": {
  "kernelspec": {
   "display_name": "Python 3",
   "language": "python",
   "name": "python3"
  },
  "language_info": {
   "codemirror_mode": {
    "name": "ipython",
    "version": 3
   },
   "file_extension": ".py",
   "mimetype": "text/x-python",
   "name": "python",
   "nbconvert_exporter": "python",
   "pygments_lexer": "ipython3",
   "version": "3.7.6"
  }
 },
 "nbformat": 4,
 "nbformat_minor": 2
}
